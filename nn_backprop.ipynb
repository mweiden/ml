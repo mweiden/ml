{
 "cells": [
  {
   "cell_type": "code",
   "execution_count": 219,
   "metadata": {
    "collapsed": false
   },
   "outputs": [],
   "source": [
    "%matplotlib inline\n",
    "import numpy as np\n",
    "import matplotlib.pyplot as plt\n",
    "import random\n",
    "import scipy.optimize as opt\n",
    "import sys\n",
    "\n",
    "def sigmoid(x):\n",
    "    return 1.0 / (1.0 + np.exp(-x))\n",
    "\n",
    "def flat_for(a, f):\n",
    "    a = a.reshape(-1)\n",
    "    for i, v in enumerate(a):\n",
    "        a[i] = f(v)\n",
    "\n",
    "def sample(n):\n",
    "    source_xs = [[0.0, 0.0], [1.0, 0.0], [1.0, 1.0], [0.0, 1.0]]\n",
    "    source_ys = [[1.0], [1.0], [0.0], [0.0]]\n",
    "    source_inds = [random.randint(0,len(source_xs) - 1) for i in xrange(n)]\n",
    "    xs = np.matrix([source_xs[i] for i in source_inds]) + np.random.randn(n,2) * 0.25\n",
    "    ys = np.matrix([source_ys[i] for i in source_inds])\n",
    "    return {'xs': xs, 'ys': ys}"
   ]
  },
  {
   "cell_type": "code",
   "execution_count": 220,
   "metadata": {
    "collapsed": false
   },
   "outputs": [
    {
     "data": {
      "text/plain": [
       "matrix([[ 0.],\n",
       "        [ 0.],\n",
       "        [ 0.]])"
      ]
     },
     "execution_count": 220,
     "metadata": {},
     "output_type": "execute_result"
    }
   ],
   "source": [
    "sample(3)['ys']"
   ]
  },
  {
   "cell_type": "code",
   "execution_count": 221,
   "metadata": {
    "collapsed": false
   },
   "outputs": [],
   "source": [
    "class NeuralNetwork:\n",
    "    \"\"\"\n",
    "    basic neural network with training via backpropagation\n",
    "        follows notation from Andrew Ng's Machine Learning Coursera Course (week 5)\n",
    "    \"\"\"\n",
    "    \n",
    "    def __init__(self, layer_sizes, thetas=None):\n",
    "        self.layer_sizes = layer_sizes\n",
    "        self.epsilon = 0.25\n",
    "        np.random.seed(1)\n",
    "        # one row is added for bias term\n",
    "        transitions = [layer_sizes[i:i+2] for i in range(0, len(layer_sizes)-1)]\n",
    "        self.layer_dim_edges = [(t[1],t[0]+1) for t in transitions]\n",
    "        self.thetas      = thetas if thetas else [np.matrix(np.random.rand(t[0], t[1])) * 2 * self.epsilon - self.epsilon for t in self.layer_dim_edges]\n",
    "        self.train_j = []\n",
    "        self.train_gtol = []\n",
    "        self.lambda_val  = 0.001\n",
    "        self.num_layers = len(self.thetas)\n",
    "\n",
    "    def unflatten_thetas(self, flat):\n",
    "        current = 0\n",
    "        unflattened = []\n",
    "        for dims in self.layer_dim_edges:\n",
    "            count = dims[0] * dims[1]\n",
    "            unflattened += [np.matrix(np.reshape(flat[current:current+count], dims))]\n",
    "            current += count\n",
    "        return unflattened\n",
    "    \n",
    "    def flatten(self, ary):\n",
    "        return np.hstack([np.asarray(ele.flatten()) for ele in ary])[0]\n",
    "    \n",
    "    def cost(self, xs, ys):\n",
    "        m = float(xs.shape[0])\n",
    "        j = self.lambda_val / (2.0 * m) * np.sum(np.power(self.flatten(self.thetas), 2.0))\n",
    "        for i in range(xs.shape[0]):\n",
    "            h_theta = self.forward_propagate(xs[i].T)[-1]\n",
    "            j += -1.0 / m * (ys[i].dot(np.log(h_theta)) + (1.0 - ys[i]).dot(np.log(1.0 - h_theta)))[0,0]\n",
    "        return j\n",
    "    \n",
    "    def create_f(self, xs, ys, new_thetas):\n",
    "        nn = NeuralNetwork(self.layer_sizes, self.unflatten_thetas(new_thetas))\n",
    "        j = nn.cost(xs, ys)\n",
    "        tup = nn.compute_gradient(xs, ys)\n",
    "        d = self.flatten(tup[0])\n",
    "        gtol = tup[1]\n",
    "        self.train_j.append(j)\n",
    "        self.train_gtol.append(gtol)\n",
    "        return (j, d)\n",
    "        \n",
    "    def train(self, xs, ys):\n",
    "        f = lambda new_thetas: self.create_f(xs, ys, new_thetas)\n",
    "        xopt = opt.fmin_l_bfgs_b(f, self.flatten(self.thetas), pgtol=1e-10) #gtol=1e-10, epsilon=1.0, \n",
    "        self.thetas = self.unflatten_thetas(xopt[0])\n",
    "        return xopt\n",
    "            \n",
    "    def forward_propagate(self, x):\n",
    "        state = x\n",
    "        activations = [self.add_bias_w(x)]\n",
    "        for theta in self.thetas[:-1]:\n",
    "            state = self.layer_step(theta, activations[-1])\n",
    "            flat_for(state, sigmoid)\n",
    "            activations.append(self.add_bias_w(state))\n",
    "        last_step = self.layer_step(self.thetas[-1], activations[-1])\n",
    "        flat_for(last_step, sigmoid)\n",
    "        activations.append(last_step)\n",
    "        return activations\n",
    "    \n",
    "    def back_propagate(self, x, y):\n",
    "        activations = self.forward_propagate(x)\n",
    "        deltas = [None] * (self.num_layers+1)\n",
    "        grad = [None] * self.num_layers\n",
    "        deltas[-1] = activations[-1] - y\n",
    "        for l in range(self.num_layers-1, 0, -1):\n",
    "            deltas[l] = np.multiply(self.thetas[l].T.dot(deltas[l+1]),\n",
    "                                    np.multiply(activations[l], 1.0 - activations[l]))\n",
    "        for l in range(0, self.num_layers):\n",
    "            # remove the change in bias term activation when propagating to earlier layers\n",
    "            delta_sel = deltas[l+1] if l == self.num_layers-1 else deltas[l+1][1:,:]\n",
    "            grad[l] = delta_sel.dot(activations[l].T)\n",
    "        return grad\n",
    "    \n",
    "    def compute_gradient(self, xs, ys):\n",
    "        assert(xs.shape[0] == ys.shape[0])\n",
    "        m = float(len(xs))\n",
    "        D = self.back_propagate(xs[0].T, ys[0].T)\n",
    "        for x, y in zip(xs[1:], ys[1:]):\n",
    "            xyD = self.back_propagate(x.T, y.T)\n",
    "            for l in range(0, self.num_layers):\n",
    "                D[l] += xyD[l]\n",
    "        for l in range(0, self.num_layers):\n",
    "            D[l] /= m\n",
    "        D[l][:,1:] += self.lambda_val * self.thetas[l][:,1:]\n",
    "        flat = self.flatten(D)\n",
    "        gtol = np.linalg.norm(flat,2.0)\n",
    "        #sys.stdout.write('.') #(i+1) / float(itr),\n",
    "        #sys.stdout.flush()\n",
    "        return D, gtol\n",
    "    \n",
    "    def update(self, D):\n",
    "        for i in range(0,len(self.thetas)):\n",
    "            self.thetas[i] -= D[i]\n",
    "    \n",
    "    def add_bias_w(self, v):\n",
    "        return np.vstack([np.matrix([[1]]), v])\n",
    "    \n",
    "    # theta(nodes_ldim x input_dim) * x_or_z(input_dim x 1)\n",
    "    def layer_step(self, theta, x_or_z):\n",
    "        return theta.dot(x_or_z)\n",
    "    \n",
    "    def print_thetas(self):\n",
    "        print \"\\n\\nthetas:\"\n",
    "        for theta in self.thetas:\n",
    "            print theta\n",
    "            print"
   ]
  },
  {
   "cell_type": "code",
   "execution_count": 222,
   "metadata": {
    "collapsed": false
   },
   "outputs": [
    {
     "name": "stdout",
     "output_type": "stream",
     "text": [
      "\n",
      "\n",
      "thetas:\n",
      "[[ 2.91458284 -0.28239879 -5.3279333 ]\n",
      " [ 2.43171985  0.00976544 -4.47129043]]\n",
      "\n",
      "[[-6.62630716  7.26920191  5.6173696 ]]\n",
      "\n"
     ]
    },
    {
     "data": {
      "text/plain": [
       "0.05349295348581818"
      ]
     },
     "execution_count": 222,
     "metadata": {},
     "output_type": "execute_result"
    }
   ],
   "source": [
    "# train with bfgs\n",
    "\n",
    "layer_sizes = [2, 2, 1]\n",
    "nn2 = NeuralNetwork(layer_sizes)\n",
    "\n",
    "np.random.seed(0)\n",
    "samples = sample(1000)\n",
    "\n",
    "xopt = nn2.train(samples['xs'], samples['ys'])\n",
    "nn2.print_thetas()\n",
    "nn2.cost(samples['xs'],samples['ys'])"
   ]
  },
  {
   "cell_type": "code",
   "execution_count": 223,
   "metadata": {
    "collapsed": false
   },
   "outputs": [
    {
     "data": {
      "text/plain": [
       "<matplotlib.text.Text at 0x10e8a4ed0>"
      ]
     },
     "execution_count": 223,
     "metadata": {},
     "output_type": "execute_result"
    },
    {
     "data": {
      "image/png": "[encoded data removed]",
      "text/plain": [
       "<matplotlib.figure.Figure at 0x10de6f810>"
      ]
     },
     "metadata": {},
     "output_type": "display_data"
    }
   ],
   "source": [
    "plt.figure(figsize=[12,8])\n",
    "plt.subplot(2,1,1)\n",
    "plt.plot(nn2.train_j)\n",
    "plt.title('j')\n",
    "plt.subplot(2,1,2)\n",
    "plt.plot(nn2.train_gtol)\n",
    "plt.title('gtol')"
   ]
  },
  {
   "cell_type": "code",
   "execution_count": 237,
   "metadata": {
    "collapsed": false
   },
   "outputs": [
    {
     "name": "stdout",
     "output_type": "stream",
     "text": [
      "__________________________________________________\n",
      "||||||||||||||||||||||||||||||||||||||||||||||||||\n",
      "\n",
      "thetas:\n",
      "[[  5.96784286  -0.56728281 -10.48785248]\n",
      " [  4.41542877   0.22568513 -10.36688758]]\n",
      "\n",
      "[[-4.1708831   4.54889133  4.42830184]]\n",
      "\n"
     ]
    },
    {
     "data": {
      "text/plain": [
       "0.057920488566910809"
      ]
     },
     "execution_count": 237,
     "metadata": {},
     "output_type": "execute_result"
    }
   ],
   "source": [
    "# train by simply updating with -gradient\n",
    "\n",
    "layer_sizes = [2, 2, 1]\n",
    "nn = NeuralNetwork(layer_sizes)\n",
    "gtols = []\n",
    "js = []\n",
    "\n",
    "np.random.seed(0)\n",
    "itr = 10000\n",
    "print '_'*50\n",
    "for i in xrange(itr):\n",
    "    if (i+1) % (itr / 50) == 0:\n",
    "        sys.stdout.write('|') #(i+1) / float(itr),\n",
    "        sys.stdout.flush()\n",
    "    samples = sample(4)\n",
    "    xs = samples['xs']\n",
    "    ys = samples['ys']\n",
    "    tup = nn.compute_gradient(xs, ys)\n",
    "    D = tup[0]\n",
    "    gtol = tup[1]\n",
    "    gtols.append(gtol)\n",
    "    js.append(nn.cost(xs, ys))\n",
    "    nn.update(D)\n",
    "\n",
    "nn.print_thetas()\n",
    "nn.cost(xs, ys)"
   ]
  },
  {
   "cell_type": "code",
   "execution_count": 238,
   "metadata": {
    "collapsed": false
   },
   "outputs": [
    {
     "data": {
      "text/plain": [
       "<matplotlib.text.Text at 0x10b0af850>"
      ]
     },
     "execution_count": 238,
     "metadata": {},
     "output_type": "execute_result"
    },
    {
     "data": {
      "image/png": "[encoded data removed]",
      "text/plain": [
       "<matplotlib.figure.Figure at 0x10e689450>"
      ]
     },
     "metadata": {},
     "output_type": "display_data"
    }
   ],
   "source": [
    "plt.figure(figsize=[12,8])\n",
    "plt.subplot(2,1,1)\n",
    "plt.plot(js)\n",
    "plt.title('j')\n",
    "plt.subplot(2,1,2)\n",
    "plt.plot(gtols)\n",
    "plt.title('gtol')"
   ]
  },
  {
   "cell_type": "code",
   "execution_count": 241,
   "metadata": {
    "collapsed": false
   },
   "outputs": [
    {
     "name": "stdout",
     "output_type": "stream",
     "text": [
      "[[0.0, 1.0], [1.0, 0.0], [0.0, 0.0], [1.0, 1.0]]\n"
     ]
    },
    {
     "data": {
      "text/plain": [
       "[matrix([[ 0.01613669]]),\n",
       " matrix([[ 0.99136755]]),\n",
       " matrix([[ 0.9913525]]),\n",
       " matrix([[ 0.01585054]])]"
      ]
     },
     "execution_count": 241,
     "metadata": {},
     "output_type": "execute_result"
    }
   ],
   "source": [
    "tests = [[0.0,1.0],[1.0,0.0],[0.0,0.0],[1.0,1.0]]\n",
    "print tests\n",
    "\n",
    "[nn.forward_propagate(np.matrix([t]).T)[-1] for t in tests]"
   ]
  },
  {
   "cell_type": "code",
   "execution_count": 205,
   "metadata": {
    "collapsed": false
   },
   "outputs": [
    {
     "data": {
      "text/plain": [
       "[<matplotlib.lines.Line2D at 0x10e1fe590>]"
      ]
     },
     "execution_count": 205,
     "metadata": {},
     "output_type": "execute_result"
    },
    {
     "data": {
      "image/png": "[encoded data removed]",
      "text/plain": [
       "<matplotlib.figure.Figure at 0x10db5cb50>"
      ]
     },
     "metadata": {},
     "output_type": "display_data"
    }
   ],
   "source": [
    "xs = np.linspace(-5, 5, 20)\n",
    "plt.plot(xs, sigmoid(xs))"
   ]
  },
  {
   "cell_type": "code",
   "execution_count": null,
   "metadata": {
    "collapsed": true
   },
   "outputs": [],
   "source": []
  }
 ],
 "metadata": {
  "kernelspec": {
   "display_name": "Python 2",
   "language": "python",
   "name": "python2"
  },
  "language_info": {
   "codemirror_mode": {
    "name": "ipython",
    "version": 2
   },
   "file_extension": ".py",
   "mimetype": "text/x-python",
   "name": "python",
   "nbconvert_exporter": "python",
   "pygments_lexer": "ipython2",
   "version": "2.7.10"
  }
 },
 "nbformat": 4,
 "nbformat_minor": 0
}
