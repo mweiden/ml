{
 "cells": [
  {
   "cell_type": "code",
   "execution_count": 1,
   "metadata": {
    "collapsed": false
   },
   "outputs": [],
   "source": [
    "%matplotlib inline\n",
    "import numpy as np\n",
    "import matplotlib.pyplot as plt\n",
    "\n",
    "def sigmoid(x):\n",
    "    return 1.0 / (1.0 + np.exp(-x))\n",
    "\n",
    "def flat_for(a, f):\n",
    "    a = a.reshape(-1)\n",
    "    for i, v in enumerate(a):\n",
    "        a[i] = f(v)"
   ]
  },
  {
   "cell_type": "code",
   "execution_count": 2,
   "metadata": {
    "collapsed": false
   },
   "outputs": [
    {
     "data": {
      "text/plain": [
       "[<matplotlib.lines.Line2D at 0x1060cda90>]"
      ]
     },
     "execution_count": 2,
     "metadata": {},
     "output_type": "execute_result"
    },
    {
     "data": {
      "image/png": "[encoded data removed]",
      "text/plain": [
       "<matplotlib.figure.Figure at 0x1043ce190>"
      ]
     },
     "metadata": {},
     "output_type": "display_data"
    }
   ],
   "source": [
    "xs = np.linspace(-5, 5, 20)\n",
    "plt.plot(xs, [sigmoid(x) for x in xs])"
   ]
  },
  {
   "cell_type": "code",
   "execution_count": 5,
   "metadata": {
    "collapsed": false
   },
   "outputs": [],
   "source": [
    "class NeuralNetwork:\n",
    "    \"\"\"\n",
    "    basic neural network with training via backpropagation (non-vectorized)\n",
    "        follows notation from Andrew Ng's Machine Learning Coursera Course (week 5)\n",
    "    \"\"\"\n",
    "    \n",
    "    def __init__(self, layer_sizes):\n",
    "        self.layer_sizes = layer_sizes\n",
    "        self.epsilon = 0.25\n",
    "        np.random.seed(0)\n",
    "        # one row is added for bias term\n",
    "        transitions = [layer_sizes[i:i+2] for i in range(0, len(layer_sizes)-1)]\n",
    "        self.layer_dim_edges = [(t[1],t[0]+1) for t in transitions]\n",
    "        self.thetas      = [np.random.rand(t[0], t[1]) * 2 * self.epsilon - self.epsilon for t in self.layer_dim_edges]\n",
    "        self.lambda_val  = 0.0001\n",
    "        self.num_layers = len(self.thetas)\n",
    "        print \"layer theta initialization:\"\n",
    "        for theta in self.thetas:\n",
    "            print theta\n",
    "            print\n",
    "            \n",
    "    def forward_propagate(self, x):\n",
    "        state = x\n",
    "        activations = [self.add_bias_w(x)]\n",
    "        for theta in self.thetas[:-1]:\n",
    "            state = self.layer_step(theta, activations[-1])\n",
    "            flat_for(state, sigmoid)\n",
    "            activations.append(self.add_bias_w(state))\n",
    "        activations.append(self.layer_step(self.thetas[-1], activations[-1]))\n",
    "        return activations\n",
    "    \n",
    "    def compute_gradient(self, x, y):\n",
    "        activations = self.forward_propagate(x)\n",
    "        deltas = [None] * (self.num_layers+1)\n",
    "        grad = [None] * self.num_layers\n",
    "        deltas[-1] = activations[-1] - y\n",
    "        for l in range(self.num_layers-1, 0, -1):\n",
    "            deltas[l] = np.multiply(self.thetas[l].T.dot(deltas[l+1]),\n",
    "                                    np.multiply(activations[l], 1.0 - activations[l]))\n",
    "        for l in range(0, self.num_layers):\n",
    "            # remove the change in bias term activation when propagating to earlier layers\n",
    "            delta_sel = deltas[l+1] if l == self.num_layers-1 else deltas[l+1][1:,:]\n",
    "            grad[l] = delta_sel.dot(activations[l].T)\n",
    "        return grad\n",
    "    \n",
    "    def back_propagate(self, xs, ys):\n",
    "        assert(len(xs) == len(ys))\n",
    "        m = float(len(xs))\n",
    "        D = self.compute_gradient(xs[0], ys[0])\n",
    "        for x, y in zip(xs[1:], ys[1:]):\n",
    "            xyD = self.compute_gradient(x, y)\n",
    "            for l in range(0, self.num_layers):\n",
    "                D[l] += xyD[l]\n",
    "        for l in range(0, self.num_layers):\n",
    "            D[l] /= m\n",
    "        D[l][:,1:] += self.lambda_val * self.thetas[l][:,1:]\n",
    "        return D\n",
    "    \n",
    "    def update(self, D):\n",
    "        for i in range(0,len(self.thetas)):\n",
    "            self.thetas[i] -= D[i]\n",
    "    \n",
    "    def add_bias_w(self, v):\n",
    "        return np.vstack([np.matrix([[1]]), v])\n",
    "    \n",
    "    # theta(nodes_ldim x input_dim) * x_or_z(input_dim x 1)\n",
    "    def layer_step(self, theta, x_or_z):\n",
    "        return theta.dot(x_or_z)"
   ]
  },
  {
   "cell_type": "code",
   "execution_count": 6,
   "metadata": {
    "collapsed": false
   },
   "outputs": [
    {
     "name": "stdout",
     "output_type": "stream",
     "text": [
      "layer theta initialization:\n",
      "[[ 0.02440675  0.10759468  0.05138169]\n",
      " [ 0.02244159 -0.0381726   0.07294706]]\n",
      "\n",
      "[[-0.03120639  0.1958865   0.23183138]]\n",
      "\n",
      "new thetas:\n",
      "[[-3.57206282  5.24338995  5.33090902]\n",
      " [ 5.08438202 -3.9695908  -4.0531141 ]]\n",
      "\n",
      "[[-1.90011488  1.79829095  1.8486403 ]]\n",
      "\n"
     ]
    }
   ],
   "source": [
    "layer_sizes = [2, 2, 1]\n",
    "nn = NeuralNetwork(layer_sizes)\n",
    "\n",
    "np.random.seed(0)\n",
    "for i in range(0,10000):\n",
    "    xs = [np.matrix([ary]).T + np.random.randn(2,1) * 0.05 for ary in [[0.0, 0.0], [1.0, 0.0], [1.0, 1.0], [0.0, 1.0]]]\n",
    "    ys = [np.matrix([ary]).T for ary in [[0.0], [1.0], [0.0], [1.0]]]\n",
    "    D = nn.back_propagate(xs, ys)\n",
    "    nn.update(D)\n",
    "\n",
    "print \"new thetas:\"\n",
    "for theta in nn.thetas:\n",
    "    print theta\n",
    "    print"
   ]
  },
  {
   "cell_type": "code",
   "execution_count": 7,
   "metadata": {
    "collapsed": false
   },
   "outputs": [
    {
     "name": "stdout",
     "output_type": "stream",
     "text": [
      "[[0.0, 1.0], [1.0, 0.0], [0.0, 0.0], [1.0, 1.0]]\n"
     ]
    },
    {
     "data": {
      "text/plain": [
       "[matrix([[ 0.99669106]]),\n",
       " matrix([[ 1.0056668]]),\n",
       " matrix([[-0.01370508]]),\n",
       " matrix([[-0.01048806]])]"
      ]
     },
     "execution_count": 7,
     "metadata": {},
     "output_type": "execute_result"
    }
   ],
   "source": [
    "tests = [[0.0,1.0],[1.0,0.0],[0.0,0.0],[1.0,1.0]]\n",
    "print tests\n",
    "\n",
    "[nn.forward_propagate(np.matrix([t]).T)[-1] for t in tests]"
   ]
  },
  {
   "cell_type": "code",
   "execution_count": null,
   "metadata": {
    "collapsed": true
   },
   "outputs": [],
   "source": []
  }
 ],
 "metadata": {
  "kernelspec": {
   "display_name": "Python 2",
   "language": "python",
   "name": "python2"
  },
  "language_info": {
   "codemirror_mode": {
    "name": "ipython",
    "version": 2
   },
   "file_extension": ".py",
   "mimetype": "text/x-python",
   "name": "python",
   "nbconvert_exporter": "python",
   "pygments_lexer": "ipython2",
   "version": "2.7.10"
  }
 },
 "nbformat": 4,
 "nbformat_minor": 0
}
